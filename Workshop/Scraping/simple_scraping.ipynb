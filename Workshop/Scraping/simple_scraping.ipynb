{
 "cells": [
  {
   "cell_type": "markdown",
   "id": "cd877866",
   "metadata": {},
   "source": [
    "### 1. Import File"
   ]
  },
  {
   "cell_type": "code",
   "execution_count": null,
   "id": "20fe98bc",
   "metadata": {},
   "outputs": [],
   "source": [
    "from selenium import webdriver\n",
    "from selenium.webdriver.chrome.options import Options\n",
    "from selenium.webdriver.common.by import By"
   ]
  },
  {
   "cell_type": "markdown",
   "id": "70b76a0c",
   "metadata": {},
   "source": [
    "### 2. Inisiasi Webdriver"
   ]
  },
  {
   "cell_type": "code",
   "execution_count": null,
   "id": "dd4dd9db",
   "metadata": {},
   "outputs": [],
   "source": [
    "chrome_options = Options()\n",
    "driver = webdriver.Chrome(options=chrome_options)"
   ]
  },
  {
   "cell_type": "markdown",
   "id": "b392231b",
   "metadata": {},
   "source": [
    "### 3. Buka Halaman Website"
   ]
  },
  {
   "cell_type": "code",
   "execution_count": null,
   "id": "36ece7cc",
   "metadata": {},
   "outputs": [],
   "source": [
    "driver.get(\"https://filkom.ub.ac.id/\")"
   ]
  },
  {
   "cell_type": "markdown",
   "id": "78c0954f",
   "metadata": {},
   "source": [
    "### 4. Scrape Data "
   ]
  },
  {
   "cell_type": "code",
   "execution_count": null,
   "id": "31b9bd22",
   "metadata": {},
   "outputs": [],
   "source": [
    "data = driver.find_element(By.CLASS_NAME, \"premium-blog-entry-title\")"
   ]
  },
  {
   "cell_type": "code",
   "execution_count": null,
   "id": "90e105f1",
   "metadata": {},
   "outputs": [],
   "source": [
    "print(data.text)"
   ]
  },
  {
   "cell_type": "code",
   "execution_count": null,
   "id": "9e3730bc",
   "metadata": {},
   "outputs": [],
   "source": [
    "data = driver.find_elements(By.CLASS_NAME, \"premium-blog-entry-title\")\n"
   ]
  },
  {
   "cell_type": "code",
   "execution_count": null,
   "id": "fe5a57b5",
   "metadata": {},
   "outputs": [],
   "source": [
    "for d in data:\n",
    "    print(d.text)"
   ]
  }
 ],
 "metadata": {
  "kernelspec": {
   "display_name": "workshop-material-data-engineer",
   "language": "python",
   "name": "python3"
  },
  "language_info": {
   "codemirror_mode": {
    "name": "ipython",
    "version": 3
   },
   "file_extension": ".py",
   "mimetype": "text/x-python",
   "name": "python",
   "nbconvert_exporter": "python",
   "pygments_lexer": "ipython3",
   "version": "3.12.11"
  }
 },
 "nbformat": 4,
 "nbformat_minor": 5
}
